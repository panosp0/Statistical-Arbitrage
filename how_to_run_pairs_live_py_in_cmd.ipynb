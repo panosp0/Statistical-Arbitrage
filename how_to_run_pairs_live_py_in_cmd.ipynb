{
 "cells": [
  {
   "cell_type": "markdown",
   "id": "a5f5923d",
   "metadata": {},
   "source": [
    "## This nb just includes and example of how we need to run the pairs_live.py file which contains the strategy. Since we have many input parameters we need to declare them in the cmd in the following way"
   ]
  },
  {
   "cell_type": "markdown",
   "id": "1c32e594",
   "metadata": {},
   "source": [
    "Example"
   ]
  },
  {
   "cell_type": "code",
   "execution_count": 4,
   "id": "cfa9091c",
   "metadata": {},
   "outputs": [
    {
     "data": {
      "text/plain": [
       "'REM override for this run\\nset BETA_WINDOW=400\\nset BAND_WINDOW=180\\nset Z_IN=2.2\\nset Z_OUT=0.4\\nset UNITS=2.0\\n\\nREM also symbols and credentials if needed\\n\\nset MT5_LOGIN=1234567\\nset MT5_PASSWORD=password\\nset MT5_SERVER=BrokerA-Server\\nset PAIR_SYM1= symbol_1 (example: GS.NYSE)\\nset PAIR_SYM2=symbol_2 (example: MS.NYSE)\\nset STATE_FILE=accA_gs_ms_state.json\\nset MON_SPREAD_CSV=accA_gs_ms_spread.csv\\nset MON_ACCOUNT_CSV=accA_gs_ms_account.csv\\nset LOG_PREFIX=ACC_A GS/MS\\n\\n# run the script after you declared the params you want\\npy pairs_live.py'"
      ]
     },
     "execution_count": 4,
     "metadata": {},
     "output_type": "execute_result"
    }
   ],
   "source": [
    "\"\"\"REM override for this run\n",
    "set BETA_WINDOW=400\n",
    "set BAND_WINDOW=180\n",
    "set Z_IN=2.2\n",
    "set Z_OUT=0.4\n",
    "set UNITS=2.0\n",
    "\n",
    "REM also symbols and credentials if needed\n",
    "\n",
    "set MT5_LOGIN=1234567\n",
    "set MT5_PASSWORD=password\n",
    "set MT5_SERVER=BrokerA-Server\n",
    "set PAIR_SYM1= symbol_1 (example: GS.NYSE)\n",
    "set PAIR_SYM2=symbol_2 (example: MS.NYSE)\n",
    "set STATE_FILE=accA_gs_ms_state.json\n",
    "set MON_SPREAD_CSV=accA_gs_ms_spread.csv\n",
    "set MON_ACCOUNT_CSV=accA_gs_ms_account.csv\n",
    "set LOG_PREFIX=ACC_A GS/MS\n",
    "\n",
    "# run the script after you declared the params you want\n",
    "py pairs_live.py\"\"\""
   ]
  }
 ],
 "metadata": {
  "kernelspec": {
   "display_name": ".pairs_trading_env",
   "language": "python",
   "name": "python3"
  },
  "language_info": {
   "codemirror_mode": {
    "name": "ipython",
    "version": 3
   },
   "file_extension": ".py",
   "mimetype": "text/x-python",
   "name": "python",
   "nbconvert_exporter": "python",
   "pygments_lexer": "ipython3",
   "version": "3.12.1"
  }
 },
 "nbformat": 4,
 "nbformat_minor": 5
}
